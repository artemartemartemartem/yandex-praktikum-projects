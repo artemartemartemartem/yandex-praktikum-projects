{
 "cells": [
  {
   "cell_type": "markdown",
   "metadata": {},
   "source": [
    "# Выбор локации для скважины"
   ]
  },
  {
   "cell_type": "markdown",
   "metadata": {},
   "source": [
    "Допустим, вы работаете в добывающей компании «ГлавРосГосНефть». Нужно решить, где бурить новую скважину.\n",
    "\n",
    "Вам предоставлены пробы нефти в трёх регионах: в каждом 10 000 месторождений, где измерили качество нефти и объём её запасов. Постройте модель машинного обучения, которая поможет определить регион, где добыча принесёт наибольшую прибыль. Проанализируйте возможную прибыль и риски техникой *Bootstrap.*\n",
    "\n",
    "Шаги для выбора локации:\n",
    "\n",
    "- В избранном регионе ищут месторождения, для каждого определяют значения признаков;\n",
    "- Строят модель и оценивают объём запасов;\n",
    "- Выбирают месторождения с самым высокими оценками значений. Количество месторождений зависит от бюджета компании и стоимости разработки одной скважины;\n",
    "- Прибыль равна суммарной прибыли отобранных месторождений."
   ]
  },
  {
   "cell_type": "markdown",
   "metadata": {},
   "source": [
    "## Загрузка и подготовка данных"
   ]
  },
  {
   "cell_type": "code",
   "execution_count": 1,
   "metadata": {},
   "outputs": [],
   "source": [
    "#Загрузим необходимые библиотеки\n",
    "import pandas as pd\n",
    "from sklearn.model_selection import train_test_split\n",
    "from sklearn.linear_model import LinearRegression\n",
    "from sklearn.metrics import mean_squared_error\n",
    "from sklearn.metrics import r2_score\n",
    "import numpy as np\n",
    "from scipy import stats as st\n"
   ]
  },
  {
   "cell_type": "code",
   "execution_count": 2,
   "metadata": {},
   "outputs": [],
   "source": [
    "#Загрузим датафрейм\n",
    "try:\n",
    "    data1 = pd.read_csv('C:/Users/ARTEM/Desktop/Project_DS/Нефть/geo_data_0.csv')\n",
    "    data2 = pd.read_csv('C:/Users/ARTEM/Desktop/Project_DS/Нефть/geo_data_1.csv')\n",
    "    data3 = pd.read_csv('C:/Users/ARTEM/Desktop/Project_DS/Нефть/geo_data_2.csv')\n",
    "except:\n",
    "    data1=pd.read_csv('/datasets/geo_data_0.csv')\n",
    "    data2=pd.read_csv('/datasets/geo_data_1.csv')\n",
    "    data3=pd.read_csv('/datasets/geo_data_2.csv')"
   ]
  },
  {
   "cell_type": "code",
   "execution_count": 3,
   "metadata": {},
   "outputs": [
    {
     "data": {
      "text/html": [
       "<div>\n",
       "<style scoped>\n",
       "    .dataframe tbody tr th:only-of-type {\n",
       "        vertical-align: middle;\n",
       "    }\n",
       "\n",
       "    .dataframe tbody tr th {\n",
       "        vertical-align: top;\n",
       "    }\n",
       "\n",
       "    .dataframe thead th {\n",
       "        text-align: right;\n",
       "    }\n",
       "</style>\n",
       "<table border=\"1\" class=\"dataframe\">\n",
       "  <thead>\n",
       "    <tr style=\"text-align: right;\">\n",
       "      <th></th>\n",
       "      <th>id</th>\n",
       "      <th>f0</th>\n",
       "      <th>f1</th>\n",
       "      <th>f2</th>\n",
       "      <th>product</th>\n",
       "    </tr>\n",
       "  </thead>\n",
       "  <tbody>\n",
       "    <tr>\n",
       "      <th>0</th>\n",
       "      <td>txEyH</td>\n",
       "      <td>0.705745</td>\n",
       "      <td>-0.497823</td>\n",
       "      <td>1.221170</td>\n",
       "      <td>105.280062</td>\n",
       "    </tr>\n",
       "    <tr>\n",
       "      <th>1</th>\n",
       "      <td>2acmU</td>\n",
       "      <td>1.334711</td>\n",
       "      <td>-0.340164</td>\n",
       "      <td>4.365080</td>\n",
       "      <td>73.037750</td>\n",
       "    </tr>\n",
       "    <tr>\n",
       "      <th>2</th>\n",
       "      <td>409Wp</td>\n",
       "      <td>1.022732</td>\n",
       "      <td>0.151990</td>\n",
       "      <td>1.419926</td>\n",
       "      <td>85.265647</td>\n",
       "    </tr>\n",
       "    <tr>\n",
       "      <th>3</th>\n",
       "      <td>iJLyR</td>\n",
       "      <td>-0.032172</td>\n",
       "      <td>0.139033</td>\n",
       "      <td>2.978566</td>\n",
       "      <td>168.620776</td>\n",
       "    </tr>\n",
       "    <tr>\n",
       "      <th>4</th>\n",
       "      <td>Xdl7t</td>\n",
       "      <td>1.988431</td>\n",
       "      <td>0.155413</td>\n",
       "      <td>4.751769</td>\n",
       "      <td>154.036647</td>\n",
       "    </tr>\n",
       "  </tbody>\n",
       "</table>\n",
       "</div>"
      ],
      "text/plain": [
       "      id        f0        f1        f2     product\n",
       "0  txEyH  0.705745 -0.497823  1.221170  105.280062\n",
       "1  2acmU  1.334711 -0.340164  4.365080   73.037750\n",
       "2  409Wp  1.022732  0.151990  1.419926   85.265647\n",
       "3  iJLyR -0.032172  0.139033  2.978566  168.620776\n",
       "4  Xdl7t  1.988431  0.155413  4.751769  154.036647"
      ]
     },
     "execution_count": 3,
     "metadata": {},
     "output_type": "execute_result"
    }
   ],
   "source": [
    "#Взглянем на 1 выборку\n",
    "data1.head(5)"
   ]
  },
  {
   "cell_type": "code",
   "execution_count": 4,
   "metadata": {},
   "outputs": [
    {
     "name": "stdout",
     "output_type": "stream",
     "text": [
      "<class 'pandas.core.frame.DataFrame'>\n",
      "RangeIndex: 100000 entries, 0 to 99999\n",
      "Data columns (total 5 columns):\n",
      " #   Column   Non-Null Count   Dtype  \n",
      "---  ------   --------------   -----  \n",
      " 0   id       100000 non-null  object \n",
      " 1   f0       100000 non-null  float64\n",
      " 2   f1       100000 non-null  float64\n",
      " 3   f2       100000 non-null  float64\n",
      " 4   product  100000 non-null  float64\n",
      "dtypes: float64(4), object(1)\n",
      "memory usage: 3.8+ MB\n"
     ]
    }
   ],
   "source": [
    "data1.info()"
   ]
  },
  {
   "cell_type": "code",
   "execution_count": 5,
   "metadata": {},
   "outputs": [
    {
     "data": {
      "text/html": [
       "<div>\n",
       "<style scoped>\n",
       "    .dataframe tbody tr th:only-of-type {\n",
       "        vertical-align: middle;\n",
       "    }\n",
       "\n",
       "    .dataframe tbody tr th {\n",
       "        vertical-align: top;\n",
       "    }\n",
       "\n",
       "    .dataframe thead th {\n",
       "        text-align: right;\n",
       "    }\n",
       "</style>\n",
       "<table border=\"1\" class=\"dataframe\">\n",
       "  <thead>\n",
       "    <tr style=\"text-align: right;\">\n",
       "      <th></th>\n",
       "      <th>id</th>\n",
       "      <th>f0</th>\n",
       "      <th>f1</th>\n",
       "      <th>f2</th>\n",
       "      <th>product</th>\n",
       "    </tr>\n",
       "  </thead>\n",
       "  <tbody>\n",
       "    <tr>\n",
       "      <th>0</th>\n",
       "      <td>kBEdx</td>\n",
       "      <td>-15.001348</td>\n",
       "      <td>-8.276000</td>\n",
       "      <td>-0.005876</td>\n",
       "      <td>3.179103</td>\n",
       "    </tr>\n",
       "    <tr>\n",
       "      <th>1</th>\n",
       "      <td>62mP7</td>\n",
       "      <td>14.272088</td>\n",
       "      <td>-3.475083</td>\n",
       "      <td>0.999183</td>\n",
       "      <td>26.953261</td>\n",
       "    </tr>\n",
       "    <tr>\n",
       "      <th>2</th>\n",
       "      <td>vyE1P</td>\n",
       "      <td>6.263187</td>\n",
       "      <td>-5.948386</td>\n",
       "      <td>5.001160</td>\n",
       "      <td>134.766305</td>\n",
       "    </tr>\n",
       "    <tr>\n",
       "      <th>3</th>\n",
       "      <td>KcrkZ</td>\n",
       "      <td>-13.081196</td>\n",
       "      <td>-11.506057</td>\n",
       "      <td>4.999415</td>\n",
       "      <td>137.945408</td>\n",
       "    </tr>\n",
       "    <tr>\n",
       "      <th>4</th>\n",
       "      <td>AHL4O</td>\n",
       "      <td>12.702195</td>\n",
       "      <td>-8.147433</td>\n",
       "      <td>5.004363</td>\n",
       "      <td>134.766305</td>\n",
       "    </tr>\n",
       "  </tbody>\n",
       "</table>\n",
       "</div>"
      ],
      "text/plain": [
       "      id         f0         f1        f2     product\n",
       "0  kBEdx -15.001348  -8.276000 -0.005876    3.179103\n",
       "1  62mP7  14.272088  -3.475083  0.999183   26.953261\n",
       "2  vyE1P   6.263187  -5.948386  5.001160  134.766305\n",
       "3  KcrkZ -13.081196 -11.506057  4.999415  137.945408\n",
       "4  AHL4O  12.702195  -8.147433  5.004363  134.766305"
      ]
     },
     "execution_count": 5,
     "metadata": {},
     "output_type": "execute_result"
    }
   ],
   "source": [
    "#Взглянем на вторую выборку\n",
    "data2.head(5)"
   ]
  },
  {
   "cell_type": "code",
   "execution_count": 6,
   "metadata": {},
   "outputs": [
    {
     "name": "stdout",
     "output_type": "stream",
     "text": [
      "<class 'pandas.core.frame.DataFrame'>\n",
      "RangeIndex: 100000 entries, 0 to 99999\n",
      "Data columns (total 5 columns):\n",
      " #   Column   Non-Null Count   Dtype  \n",
      "---  ------   --------------   -----  \n",
      " 0   id       100000 non-null  object \n",
      " 1   f0       100000 non-null  float64\n",
      " 2   f1       100000 non-null  float64\n",
      " 3   f2       100000 non-null  float64\n",
      " 4   product  100000 non-null  float64\n",
      "dtypes: float64(4), object(1)\n",
      "memory usage: 3.8+ MB\n"
     ]
    }
   ],
   "source": [
    "data2.info()"
   ]
  },
  {
   "cell_type": "code",
   "execution_count": 7,
   "metadata": {},
   "outputs": [
    {
     "data": {
      "text/html": [
       "<div>\n",
       "<style scoped>\n",
       "    .dataframe tbody tr th:only-of-type {\n",
       "        vertical-align: middle;\n",
       "    }\n",
       "\n",
       "    .dataframe tbody tr th {\n",
       "        vertical-align: top;\n",
       "    }\n",
       "\n",
       "    .dataframe thead th {\n",
       "        text-align: right;\n",
       "    }\n",
       "</style>\n",
       "<table border=\"1\" class=\"dataframe\">\n",
       "  <thead>\n",
       "    <tr style=\"text-align: right;\">\n",
       "      <th></th>\n",
       "      <th>id</th>\n",
       "      <th>f0</th>\n",
       "      <th>f1</th>\n",
       "      <th>f2</th>\n",
       "      <th>product</th>\n",
       "    </tr>\n",
       "  </thead>\n",
       "  <tbody>\n",
       "    <tr>\n",
       "      <th>0</th>\n",
       "      <td>fwXo0</td>\n",
       "      <td>-1.146987</td>\n",
       "      <td>0.963328</td>\n",
       "      <td>-0.828965</td>\n",
       "      <td>27.758673</td>\n",
       "    </tr>\n",
       "    <tr>\n",
       "      <th>1</th>\n",
       "      <td>WJtFt</td>\n",
       "      <td>0.262778</td>\n",
       "      <td>0.269839</td>\n",
       "      <td>-2.530187</td>\n",
       "      <td>56.069697</td>\n",
       "    </tr>\n",
       "    <tr>\n",
       "      <th>2</th>\n",
       "      <td>ovLUW</td>\n",
       "      <td>0.194587</td>\n",
       "      <td>0.289035</td>\n",
       "      <td>-5.586433</td>\n",
       "      <td>62.871910</td>\n",
       "    </tr>\n",
       "    <tr>\n",
       "      <th>3</th>\n",
       "      <td>q6cA6</td>\n",
       "      <td>2.236060</td>\n",
       "      <td>-0.553760</td>\n",
       "      <td>0.930038</td>\n",
       "      <td>114.572842</td>\n",
       "    </tr>\n",
       "    <tr>\n",
       "      <th>4</th>\n",
       "      <td>WPMUX</td>\n",
       "      <td>-0.515993</td>\n",
       "      <td>1.716266</td>\n",
       "      <td>5.899011</td>\n",
       "      <td>149.600746</td>\n",
       "    </tr>\n",
       "  </tbody>\n",
       "</table>\n",
       "</div>"
      ],
      "text/plain": [
       "      id        f0        f1        f2     product\n",
       "0  fwXo0 -1.146987  0.963328 -0.828965   27.758673\n",
       "1  WJtFt  0.262778  0.269839 -2.530187   56.069697\n",
       "2  ovLUW  0.194587  0.289035 -5.586433   62.871910\n",
       "3  q6cA6  2.236060 -0.553760  0.930038  114.572842\n",
       "4  WPMUX -0.515993  1.716266  5.899011  149.600746"
      ]
     },
     "execution_count": 7,
     "metadata": {},
     "output_type": "execute_result"
    }
   ],
   "source": [
    "#Взглянем на третью выборку\n",
    "data3.head(5)"
   ]
  },
  {
   "cell_type": "code",
   "execution_count": 8,
   "metadata": {},
   "outputs": [
    {
     "name": "stdout",
     "output_type": "stream",
     "text": [
      "<class 'pandas.core.frame.DataFrame'>\n",
      "RangeIndex: 100000 entries, 0 to 99999\n",
      "Data columns (total 5 columns):\n",
      " #   Column   Non-Null Count   Dtype  \n",
      "---  ------   --------------   -----  \n",
      " 0   id       100000 non-null  object \n",
      " 1   f0       100000 non-null  float64\n",
      " 2   f1       100000 non-null  float64\n",
      " 3   f2       100000 non-null  float64\n",
      " 4   product  100000 non-null  float64\n",
      "dtypes: float64(4), object(1)\n",
      "memory usage: 3.8+ MB\n"
     ]
    }
   ],
   "source": [
    "data3.info()"
   ]
  },
  {
   "cell_type": "markdown",
   "metadata": {},
   "source": [
    "### Вывод: \n",
    "- загрузили необходимые библиотеки\n",
    "- визуально ознакомились с данными"
   ]
  },
  {
   "cell_type": "markdown",
   "metadata": {},
   "source": [
    "## Обучение и проверка модели"
   ]
  },
  {
   "cell_type": "code",
   "execution_count": 9,
   "metadata": {},
   "outputs": [
    {
     "name": "stdout",
     "output_type": "stream",
     "text": [
      "Размер обучающей выборки для 1 региона - 75000 ;валидационной выборки для 1 региона - 25000\n",
      "Размер обучающей выборки для 2 региона - 75000 ;валидационной выборки для 2 региона - 25000\n",
      "Размер обучающей выборки для 3 региона - 75000 ;валидационной выборки для 3 региона - 25000\n"
     ]
    }
   ],
   "source": [
    "#Разобьем данные на обучающую и валидационную выборки в соотношении 75:25\n",
    "data_train1, data_valid1 = train_test_split(data1, test_size=0.25, random_state=12345)\n",
    "data_train2, data_valid2 = train_test_split(data2, test_size=0.25, random_state=12345)\n",
    "data_train3, data_valid3 = train_test_split(data3, test_size=0.25, random_state=12345)\n",
    "print('Размер обучающей выборки для 1 региона -', len(data_train1),';валидационной выборки для 1 региона -', len(data_valid1))\n",
    "print('Размер обучающей выборки для 2 региона -', len(data_train2),';валидационной выборки для 2 региона -', len(data_valid2))\n",
    "print('Размер обучающей выборки для 3 региона -', len(data_train3),';валидационной выборки для 3 региона -', len(data_valid3))"
   ]
  },
  {
   "cell_type": "code",
   "execution_count": 10,
   "metadata": {},
   "outputs": [],
   "source": [
    "#Определим целевой признак и признаки для каждого региона, также нужно удалить id, потому что он не несет какой-то смысловой нагрузки и вылетает ошибка при обучении модели\n",
    "target_train1=data_train1['product']\n",
    "features_train1=data_train1.drop(['product','id'], axis=1)\n",
    "target_valid1=data_valid1['product']\n",
    "features_valid1=data_valid1.drop(['product','id'], axis=1)\n",
    "\n",
    "\n",
    "target_train2=data_train2['product']\n",
    "features_train2=data_train2.drop(['product','id'], axis=1)\n",
    "target_valid2=data_valid2['product']\n",
    "features_valid2=data_valid2.drop(['product','id'], axis=1)\n",
    "\n",
    "target_train3=data_train3['product']\n",
    "features_train3=data_train3.drop(['product','id'], axis=1)\n",
    "target_valid3=data_valid3['product']\n",
    "features_valid3=data_valid3.drop(['product','id'], axis=1)"
   ]
  },
  {
   "cell_type": "code",
   "execution_count": 11,
   "metadata": {},
   "outputs": [
    {
     "name": "stdout",
     "output_type": "stream",
     "text": [
      "Среднеквадратичная ошибка RMSE: 37.58\n",
      "Коэффициент детерминации: 0.28\n"
     ]
    }
   ],
   "source": [
    "#Применим модель линейной регрессии к нашим 3 регионам\n",
    "model1=LinearRegression()\n",
    "model1.fit(features_train1,target_train1)\n",
    "predict1=model1.predict(features_valid1)\n",
    "rmse1 = mean_squared_error(target_valid1, predict1)**0.5\n",
    "print('Среднеквадратичная ошибка RMSE: %.2f'% rmse1)\n",
    "print('Коэффициент детерминации: %.2f' % r2_score(target_valid1, predict1))\n",
    "\n"
   ]
  },
  {
   "cell_type": "code",
   "execution_count": 12,
   "metadata": {},
   "outputs": [
    {
     "name": "stdout",
     "output_type": "stream",
     "text": [
      "Среднеквадратичная ошибка RMSE: 0.89\n",
      "Коэффициент детерминации: 1.00\n"
     ]
    }
   ],
   "source": [
    "model2=LinearRegression()\n",
    "model2.fit(features_train2,target_train2)\n",
    "predict2=model2.predict(features_valid2)\n",
    "rmse2 = mean_squared_error(target_valid2, predict2)**0.5\n",
    "print('Среднеквадратичная ошибка RMSE: %.2f'% rmse2)\n",
    "print('Коэффициент детерминации: %.2f' % r2_score(target_valid2, predict2))"
   ]
  },
  {
   "cell_type": "code",
   "execution_count": 13,
   "metadata": {},
   "outputs": [
    {
     "name": "stdout",
     "output_type": "stream",
     "text": [
      "Среднеквадратичная ошибка RMSE: 40.03\n",
      "Коэффициент детерминации: 0.21\n"
     ]
    }
   ],
   "source": [
    "model3=LinearRegression()\n",
    "model3.fit(features_train3,target_train3)\n",
    "predict3=model3.predict(features_valid3)\n",
    "rmse3 = mean_squared_error(target_valid3, predict3)**0.5\n",
    "print('Среднеквадратичная ошибка RMSE: %.2f'% rmse3)\n",
    "print('Коэффициент детерминации: %.2f' % r2_score(target_valid3, predict3))"
   ]
  },
  {
   "cell_type": "code",
   "execution_count": 14,
   "metadata": {},
   "outputs": [],
   "source": [
    "result_table = pd.DataFrame(index=['RMSE модели','R2 Score', 'Средний запас предсказанного сырья ','Средний запас фактического сырья','Разница'], columns=['Для 1 региона','Для 2 региона','Для 3 региона'])\n",
    "result_table['Для 1 региона'] = rmse1,r2_score(target_valid1, predict1),predict1.mean(),data1['product'].mean(),(predict1.mean()-data1['product'].mean())/data1['product'].mean()*100\n",
    "result_table['Для 2 региона'] = rmse2,r2_score(target_valid2, predict2),predict2.mean(),data2['product'].mean(),(predict2.mean()-data2['product'].mean())/data2['product'].mean()*100\n",
    "result_table['Для 3 региона'] = rmse3,r2_score(target_valid3, predict3),predict3.mean(),data3['product'].mean(),(predict3.mean()-data3['product'].mean())/data3['product'].mean()*100\n"
   ]
  },
  {
   "cell_type": "code",
   "execution_count": 15,
   "metadata": {},
   "outputs": [
    {
     "data": {
      "text/html": [
       "<div>\n",
       "<style scoped>\n",
       "    .dataframe tbody tr th:only-of-type {\n",
       "        vertical-align: middle;\n",
       "    }\n",
       "\n",
       "    .dataframe tbody tr th {\n",
       "        vertical-align: top;\n",
       "    }\n",
       "\n",
       "    .dataframe thead th {\n",
       "        text-align: right;\n",
       "    }\n",
       "</style>\n",
       "<table border=\"1\" class=\"dataframe\">\n",
       "  <thead>\n",
       "    <tr style=\"text-align: right;\">\n",
       "      <th></th>\n",
       "      <th>Для 1 региона</th>\n",
       "      <th>Для 2 региона</th>\n",
       "      <th>Для 3 региона</th>\n",
       "    </tr>\n",
       "  </thead>\n",
       "  <tbody>\n",
       "    <tr>\n",
       "      <th>RMSE модели</th>\n",
       "      <td>37.579422</td>\n",
       "      <td>0.893099</td>\n",
       "      <td>40.029709</td>\n",
       "    </tr>\n",
       "    <tr>\n",
       "      <th>R2 Score</th>\n",
       "      <td>0.279943</td>\n",
       "      <td>0.999623</td>\n",
       "      <td>0.205248</td>\n",
       "    </tr>\n",
       "    <tr>\n",
       "      <th>Средний запас предсказанного сырья</th>\n",
       "      <td>92.592568</td>\n",
       "      <td>68.728547</td>\n",
       "      <td>94.965046</td>\n",
       "    </tr>\n",
       "    <tr>\n",
       "      <th>Средний запас фактического сырья</th>\n",
       "      <td>92.500000</td>\n",
       "      <td>68.825000</td>\n",
       "      <td>95.000000</td>\n",
       "    </tr>\n",
       "    <tr>\n",
       "      <th>Разница</th>\n",
       "      <td>0.100073</td>\n",
       "      <td>-0.140143</td>\n",
       "      <td>-0.036794</td>\n",
       "    </tr>\n",
       "  </tbody>\n",
       "</table>\n",
       "</div>"
      ],
      "text/plain": [
       "                                     Для 1 региона  Для 2 региона  \\\n",
       "RMSE модели                              37.579422       0.893099   \n",
       "R2 Score                                  0.279943       0.999623   \n",
       "Средний запас предсказанного сырья       92.592568      68.728547   \n",
       "Средний запас фактического сырья         92.500000      68.825000   \n",
       "Разница                                   0.100073      -0.140143   \n",
       "\n",
       "                                     Для 3 региона  \n",
       "RMSE модели                              40.029709  \n",
       "R2 Score                                  0.205248  \n",
       "Средний запас предсказанного сырья       94.965046  \n",
       "Средний запас фактического сырья         95.000000  \n",
       "Разница                                  -0.036794  "
      ]
     },
     "execution_count": 15,
     "metadata": {},
     "output_type": "execute_result"
    }
   ],
   "source": [
    "result_table"
   ]
  },
  {
   "cell_type": "markdown",
   "metadata": {},
   "source": [
    "### Вывод: \n",
    "- Самые высокие  фактические запасы сырья, как и предсказанные в 1 и 3 регионе, они примерно одинаковые 92-95, однако модели имеют высокую погрешность\n",
    "- Во 2 регионе средние запасы нефти ниже, чем в 1 и 3, НО и погрешность значительно ниже"
   ]
  },
  {
   "cell_type": "markdown",
   "metadata": {},
   "source": [
    "## Подготовка к расчёту прибыли"
   ]
  },
  {
   "cell_type": "code",
   "execution_count": 16,
   "metadata": {},
   "outputs": [],
   "source": [
    "# Необходимые переменные\n",
    "BUDGET= 1000000000\n",
    "INCOME_1_POINT=45000\n",
    "BEST_POINTS = 200\n",
    "BUDGET_PER_POINT=BUDGET/BEST_POINTS\n",
    "PRICE_PER_BARREL=450000"
   ]
  },
  {
   "cell_type": "code",
   "execution_count": 17,
   "metadata": {},
   "outputs": [
    {
     "name": "stdout",
     "output_type": "stream",
     "text": [
      "Объём каждой скважины для безубыточной разработки должен составлять не менее: 111.11 тыс.баррелей\n"
     ]
    }
   ],
   "source": [
    "#Рассчитаем достаточный объём сырья для безубыточной разработки новой скважины\n",
    "v_for_new_point = BUDGET_PER_POINT/INCOME_1_POINT\n",
    "print('Объём каждой скважины для безубыточной разработки должен составлять не менее: %.2f'%v_for_new_point,'тыс.баррелей')"
   ]
  },
  {
   "cell_type": "code",
   "execution_count": 18,
   "metadata": {},
   "outputs": [
    {
     "data": {
      "text/plain": [
       "92.49999999999974"
      ]
     },
     "execution_count": 18,
     "metadata": {},
     "output_type": "execute_result"
    }
   ],
   "source": [
    "#Выделим средние объем в 1 регионе\n",
    "data1['product'].mean()"
   ]
  },
  {
   "cell_type": "code",
   "execution_count": 19,
   "metadata": {},
   "outputs": [
    {
     "data": {
      "text/plain": [
       "68.82500000002561"
      ]
     },
     "execution_count": 19,
     "metadata": {},
     "output_type": "execute_result"
    }
   ],
   "source": [
    "#Выделим средние объем во 2 регионе\n",
    "data2['product'].mean()"
   ]
  },
  {
   "cell_type": "code",
   "execution_count": 20,
   "metadata": {},
   "outputs": [
    {
     "data": {
      "text/plain": [
       "95.00000000000041"
      ]
     },
     "execution_count": 20,
     "metadata": {},
     "output_type": "execute_result"
    }
   ],
   "source": [
    "#Выделим средние объем в 3 регионе\n",
    "data3['product'].mean()"
   ]
  },
  {
   "cell_type": "code",
   "execution_count": 21,
   "metadata": {},
   "outputs": [],
   "source": [
    "#Сделаем результирующие таблицу и посчиатем среднее\n",
    "result_table = pd.DataFrame(index=['Cредний объем на скважину 1 регион','Необходимый объем'], columns=['Для 1 региона','Для 2 региона','Для 3 региона'])\n",
    "result_table['Для 1 региона'] = data1['product'].mean(),v_for_new_point\n",
    "result_table['Для 2 региона'] = data2['product'].mean(),v_for_new_point\n",
    "result_table['Для 3 региона'] = data3['product'].mean(),v_for_new_point\n"
   ]
  },
  {
   "cell_type": "code",
   "execution_count": 22,
   "metadata": {},
   "outputs": [
    {
     "data": {
      "text/html": [
       "<div>\n",
       "<style scoped>\n",
       "    .dataframe tbody tr th:only-of-type {\n",
       "        vertical-align: middle;\n",
       "    }\n",
       "\n",
       "    .dataframe tbody tr th {\n",
       "        vertical-align: top;\n",
       "    }\n",
       "\n",
       "    .dataframe thead th {\n",
       "        text-align: right;\n",
       "    }\n",
       "</style>\n",
       "<table border=\"1\" class=\"dataframe\">\n",
       "  <thead>\n",
       "    <tr style=\"text-align: right;\">\n",
       "      <th></th>\n",
       "      <th>Для 1 региона</th>\n",
       "      <th>Для 2 региона</th>\n",
       "      <th>Для 3 региона</th>\n",
       "    </tr>\n",
       "  </thead>\n",
       "  <tbody>\n",
       "    <tr>\n",
       "      <th>Cредний объем на скважину 1 регион</th>\n",
       "      <td>92.500000</td>\n",
       "      <td>68.825000</td>\n",
       "      <td>95.000000</td>\n",
       "    </tr>\n",
       "    <tr>\n",
       "      <th>Необходимый объем</th>\n",
       "      <td>111.111111</td>\n",
       "      <td>111.111111</td>\n",
       "      <td>111.111111</td>\n",
       "    </tr>\n",
       "  </tbody>\n",
       "</table>\n",
       "</div>"
      ],
      "text/plain": [
       "                                    Для 1 региона  Для 2 региона  \\\n",
       "Cредний объем на скважину 1 регион      92.500000      68.825000   \n",
       "Необходимый объем                      111.111111     111.111111   \n",
       "\n",
       "                                    Для 3 региона  \n",
       "Cредний объем на скважину 1 регион      95.000000  \n",
       "Необходимый объем                      111.111111  "
      ]
     },
     "execution_count": 22,
     "metadata": {},
     "output_type": "execute_result"
    }
   ],
   "source": [
    "#Оценим результаты\n",
    "result_table"
   ]
  },
  {
   "cell_type": "markdown",
   "metadata": {},
   "source": [
    "### Вывод: \n",
    "\n",
    "Средние объемы во всех 3 регионах меньше объема, необходимого для безубыточной разработки, поэтому мы не можем сразу сделать \n"
   ]
  },
  {
   "cell_type": "code",
   "execution_count": 23,
   "metadata": {},
   "outputs": [
    {
     "data": {
      "text/plain": [
       "93073    180.180713\n",
       "46784    176.252213\n",
       "78948    175.850623\n",
       "43388    175.658429\n",
       "6496     173.299686\n",
       "            ...    \n",
       "30488    148.507064\n",
       "98799    148.481767\n",
       "53840    148.476498\n",
       "4638     148.436761\n",
       "75908    148.365941\n",
       "Length: 200, dtype: float64"
      ]
     },
     "execution_count": 23,
     "metadata": {},
     "output_type": "execute_result"
    }
   ],
   "source": [
    "#Выполним привязку индексов скважин к предсказаниям модели и отсорируем список по убыванию\n",
    "probs200 = pd.Series(predict1, index=target_valid1.index).sort_values(ascending=False)\n",
    "top200 = probs200[:200]\n",
    "top200"
   ]
  },
  {
   "cell_type": "code",
   "execution_count": 24,
   "metadata": {},
   "outputs": [
    {
     "name": "stdout",
     "output_type": "stream",
     "text": [
      "Суммарный запас сырья в 200 лучших скважинах составит: 31102.33 тыс.баррелей\n"
     ]
    }
   ],
   "source": [
    "#Посчитаем сумму\n",
    "top200_sum = top200.sum()\n",
    "print('Суммарный запас сырья в 200 лучших скважинах составит: %.2f тыс.баррелей'%top200_sum)"
   ]
  },
  {
   "cell_type": "code",
   "execution_count": 31,
   "metadata": {},
   "outputs": [],
   "source": [
    "#Напишем функцию для расчета прибыли\n",
    "def profit_for_per_region(predict,target,count):\n",
    "    probs200= pd.Series(predict, index=target.index).sort_values(ascending=False)\n",
    "    top200  = probs200[:count].sum()\n",
    "    profit_pred=(top200*INCOME_1_POINT)-BUDGET\n",
    "    print('Суммарный запас сырья в 200 лучших скважинах составит: %.2f тыс.баррелей'%top200)\n",
    "    print('Прибыль для полученного объёма сырья составит %.2f рублей'%(profit_pred))"
   ]
  },
  {
   "cell_type": "code",
   "execution_count": 32,
   "metadata": {},
   "outputs": [
    {
     "name": "stdout",
     "output_type": "stream",
     "text": [
      "Суммарный запас сырья в 200 лучших скважинах составит: 31102.33 тыс.баррелей\n",
      "Прибыль для полученного объёма сырья составит 399604887.75 рублей\n"
     ]
    }
   ],
   "source": [
    "#Для 1 региона\n",
    "profit_for_per_region(predict1,target_valid1,200)"
   ]
  },
  {
   "cell_type": "code",
   "execution_count": 33,
   "metadata": {},
   "outputs": [
    {
     "name": "stdout",
     "output_type": "stream",
     "text": [
      "Суммарный запас сырья в 200 лучших скважинах составит: 27746.03 тыс.баррелей\n",
      "Прибыль для полученного объёма сырья составит 248571205.20 рублей\n"
     ]
    }
   ],
   "source": [
    "#Для 2 региона\n",
    "profit_for_per_region(predict2,target_valid2,200)"
   ]
  },
  {
   "cell_type": "code",
   "execution_count": 34,
   "metadata": {},
   "outputs": [
    {
     "name": "stdout",
     "output_type": "stream",
     "text": [
      "Суммарный запас сырья в 200 лучших скважинах составит: 29603.90 тыс.баррелей\n",
      "Прибыль для полученного объёма сырья составит 332175439.62 рублей\n"
     ]
    }
   ],
   "source": [
    "#Для 3 региона\n",
    "profit_for_per_region(predict3,target_valid3,200)"
   ]
  },
  {
   "cell_type": "markdown",
   "metadata": {},
   "source": [
    "### Вывод: \n",
    "Все регионы выглядят достаточно прибыльными, 1 регион выглядит предпочтительнее всех на данный момент, как по объему нефти так и по прибыли"
   ]
  },
  {
   "cell_type": "markdown",
   "metadata": {},
   "source": [
    "## Расчёт прибыли и рисков "
   ]
  },
  {
   "cell_type": "code",
   "execution_count": 38,
   "metadata": {},
   "outputs": [],
   "source": [
    "#Скорректируем функцию\n",
    "def profit_for_per_region(predict,target,count):\n",
    "    probs200 = pd.Series(predict).sort_values(ascending=False)\n",
    "    top200  = target[probs200.index][:count]\n",
    "    product = top200.sum()\n",
    "    income = product * INCOME_1_POINT\n",
    "    return income  - BUDGET"
   ]
  },
  {
   "cell_type": "code",
   "execution_count": 39,
   "metadata": {},
   "outputs": [],
   "source": [
    "#Применим бустрап\n",
    "state = np.random.RandomState(12345)\n",
    "n=500\n",
    "k=1000\n",
    "def bootstap(target,predict):\n",
    "    values = []\n",
    "    predict_1 = pd.Series(predict, index=target.index)\n",
    "    count=0\n",
    "    for i in range(k):\n",
    "        target_subsample = target.sample(n,replace=True, random_state=state)  \n",
    "        probs_subsample = predict_1[target_subsample.index]\n",
    "        values.append(profit_for_per_region(probs_subsample,target_subsample, BEST_POINTS))  \n",
    "    for i in values:\n",
    "        if i < 0:\n",
    "            count +=1\n",
    "            \n",
    "    values = pd.Series(values)\n",
    "    mean = values.mean()\n",
    "    interval = st.t.interval(0.95, len(values)-1, values.mean(), values.sem())\n",
    "        \n",
    "    \n",
    "    lower = values.quantile(0.025)\n",
    "    upper = values.quantile(0.975)\n",
    "    \n",
    "    risk=(values < 0).mean()\n",
    "    \n",
    "    print(\"Средняя прибыль: {:.2f} руб\".format(mean))\n",
    "    print('С вероятностью 95% прибыль в данном регионе будет составлять от: {:.2f} руб до: {:.2f} руб'.format((lower),(upper)))\n",
    "    print(\"95%-ый доверительный интервал: от {:.2f} руб до {:.2f} руб\". format((interval[0]),(interval[1])))\n",
    "    print ('Процент вероятности убытка в данном регионе составит {:.1%}', format(count/k))"
   ]
  },
  {
   "cell_type": "code",
   "execution_count": 40,
   "metadata": {},
   "outputs": [
    {
     "name": "stdout",
     "output_type": "stream",
     "text": [
      "Средняя прибыль: 42593852.69 руб\n",
      "С вероятностью 95% прибыль в данном регионе будет составлять от: -10209009.48 руб до: 94797635.34 руб\n",
      "95%-ый доверительный интервал: от 40873220.71 руб до 44314484.68 руб\n",
      "Процент вероятности убытка в данном регионе составит {:.1%} 0.06\n"
     ]
    }
   ],
   "source": [
    "#Результаты 1 региона\n",
    "bootstap(target_valid1,predict1)"
   ]
  },
  {
   "cell_type": "code",
   "execution_count": 41,
   "metadata": {},
   "outputs": [
    {
     "name": "stdout",
     "output_type": "stream",
     "text": [
      "Средняя прибыль: 51825949.37 руб\n",
      "С вероятностью 95% прибыль в данном регионе будет составлять от: 12812323.14 руб до: 95361298.21 руб\n",
      "95%-ый доверительный интервал: от 50524988.16 руб до 53126910.58 руб\n",
      "Процент вероятности убытка в данном регионе составит {:.1%} 0.003\n"
     ]
    }
   ],
   "source": [
    "#Результаты 2 региона\n",
    "bootstap(target_valid2,predict2)"
   ]
  },
  {
   "cell_type": "code",
   "execution_count": 42,
   "metadata": {},
   "outputs": [
    {
     "name": "stdout",
     "output_type": "stream",
     "text": [
      "Средняя прибыль: 42019400.53 руб\n",
      "С вероятностью 95% прибыль в данном регионе будет составлять от: -11585260.92 руб до: 98962993.98 руб\n",
      "95%-ый доверительный интервал: от 40252870.37 руб до 43785930.70 руб\n",
      "Процент вероятности убытка в данном регионе составит {:.1%} 0.062\n"
     ]
    }
   ],
   "source": [
    "#Результаты 3 региона\n",
    "bootstap(target_valid3,predict3)"
   ]
  },
  {
   "cell_type": "code",
   "execution_count": 45,
   "metadata": {},
   "outputs": [
    {
     "name": "stdout",
     "output_type": "stream",
     "text": [
      "Requirement already satisfied: prettytable in c:\\users\\artem\\anaconda3\\lib\\site-packages (3.7.0)\n",
      "Requirement already satisfied: wcwidth in c:\\users\\artem\\anaconda3\\lib\\site-packages (from prettytable) (0.2.5)\n",
      "+------------------------+-------------------+\n",
      "|       Показатель       |      Значение     |\n",
      "+------------------------+-------------------+\n",
      "|    Средняя выручка     |     430.3 млн     |\n",
      "|          Риск          |        4.9%       |\n",
      "| Доверительный интервал | -93.6 : 974.2 млн |\n",
      "+------------------------+-------------------+\n"
     ]
    },
    {
     "data": {
      "image/png": "[encoded data removed]",
      "text/plain": [
       "<Figure size 432x288 with 1 Axes>"
      ]
     },
     "metadata": {
      "needs_background": "light"
     },
     "output_type": "display_data"
    }
   ],
   "source": [
    "#pip3 install prettytable\n",
    "from prettytable import PrettyTable\n",
    "import seaborn as sns\n",
    "from scipy import stats as st\n",
    "import matplotlib.pyplot as plt\n",
    "\n",
    "BUDGET = 10000000000\n",
    "BARREL_COST = 450\n",
    "BARRELS_IN_UNIT = 1000\n",
    "UNIT_COST = BARREL_COST * BARRELS_IN_UNIT\n",
    "TOTAL_POINTS = 500\n",
    "POINTS = 200\n",
    "\n",
    "def revenue_2(target, predictions, points, budget, unit_cost):\n",
    "    predicted_sorted = predictions.sort_values(ascending=False)\n",
    "    selected = target[predicted_sorted.index][:points]\n",
    "    return selected.sum() * unit_cost - budget\n",
    "\n",
    "def bootstrap_2(target, probabilities):\n",
    "    state = np.random.RandomState(888)\n",
    "    values=[]\n",
    "    for i in range(1000):\n",
    "        target_subsample = target.sample(replace=True,\\\n",
    "            random_state=state, n=TOTAL_POINTS)\n",
    "        \n",
    "        probs_subsample = probabilities[target_subsample.index]\n",
    "        values.append(revenue_2(target_subsample, probs_subsample, POINTS, BUDGET, UNIT_COST))\n",
    "\n",
    "    values = pd.Series(values)\n",
    "    lower = values.quantile(0.025)\n",
    "    upper = values.quantile(0.975)\n",
    "    mean = values.mean()\n",
    "    risk = st.percentileofscore(values, 0)\n",
    "     \n",
    "     # Отображение таблицы\n",
    "    table = PrettyTable()\n",
    "    table.field_names = ['Показатель', 'Значение']    \n",
    "    table.add_row(['Средняя выручка', f'{mean/1e6:.1f} млн'])\n",
    "    table.add_row(['Риск', f'{risk:.2}%'])    \n",
    "    table.add_row(['Доверительный интервал', f'{lower/1e6:.1f} : {upper/1e6:.1f} млн'])\n",
    "    print(table)\n",
    "\n",
    "    sns.histplot(values, alpha=0.4,  element=\"step\")\n",
    "    plt.xlabel('Прибыль')\n",
    "    plt.axvline(x=mean, color='b', ls='--', lw=3, label='Средняя прибыль')\n",
    "    plt.axvline(x=lower, color='r', ls=':', lw=3, label='95%-й доверительный интервал')\n",
    "    plt.axvline(x=upper, color='r', ls=':', lw=3)\n",
    "    plt.legend(bbox_to_anchor=(0.5, -0.15), loc='upper center', ncol=2)\n",
    "    plt.show()\n",
    "    \n",
    "bootstrap_2(target_valid3.reset_index(drop=True), pd.Series(predict3))"
   ]
  },
  {
   "cell_type": "markdown",
   "metadata": {},
   "source": [
    "### Вывод: \n",
    "Средняя прибыль в регионе 2 по прогнозам выглядит наиболее высокой, далее регион 1 и регион 3"
   ]
  }
 ],
 "metadata": {
  "ExecuteTimeLog": [
   {
    "duration": 1982,
    "start_time": "2023-06-03T19:14:04.174Z"
   },
   {
    "duration": 1258,
    "start_time": "2023-06-03T19:14:06.158Z"
   },
   {
    "duration": 18,
    "start_time": "2023-06-03T19:14:07.419Z"
   },
   {
    "duration": 28,
    "start_time": "2023-06-03T19:14:07.438Z"
   },
   {
    "duration": 37,
    "start_time": "2023-06-03T19:14:07.468Z"
   },
   {
    "duration": 47,
    "start_time": "2023-06-03T19:14:07.507Z"
   },
   {
    "duration": 13,
    "start_time": "2023-06-03T19:14:07.556Z"
   },
   {
    "duration": 32,
    "start_time": "2023-06-03T19:14:07.570Z"
   },
   {
    "duration": 96,
    "start_time": "2023-06-03T19:14:07.606Z"
   },
   {
    "duration": 25,
    "start_time": "2023-06-03T19:14:07.708Z"
   },
   {
    "duration": 48,
    "start_time": "2023-06-03T19:14:07.735Z"
   },
   {
    "duration": 212,
    "start_time": "2023-06-03T19:14:07.787Z"
   },
   {
    "duration": 113,
    "start_time": "2023-06-03T19:14:08.008Z"
   },
   {
    "duration": 54,
    "start_time": "2023-06-03T19:14:08.181Z"
   },
   {
    "duration": 20,
    "start_time": "2023-06-03T19:14:08.280Z"
   },
   {
    "duration": 5,
    "start_time": "2023-06-03T19:14:08.302Z"
   },
   {
    "duration": 15,
    "start_time": "2023-06-03T19:14:08.308Z"
   },
   {
    "duration": 47,
    "start_time": "2023-06-03T19:14:08.325Z"
   },
   {
    "duration": 35,
    "start_time": "2023-06-03T19:14:08.374Z"
   },
   {
    "duration": 34,
    "start_time": "2023-06-03T19:14:08.414Z"
   },
   {
    "duration": 9,
    "start_time": "2023-06-03T19:14:08.450Z"
   },
   {
    "duration": 21,
    "start_time": "2023-06-03T19:14:08.461Z"
   },
   {
    "duration": 13,
    "start_time": "2023-06-03T19:14:08.487Z"
   },
   {
    "duration": 4,
    "start_time": "2023-06-03T19:14:08.507Z"
   },
   {
    "duration": 14,
    "start_time": "2023-06-03T19:14:08.513Z"
   },
   {
    "duration": 14,
    "start_time": "2023-06-03T19:14:08.530Z"
   },
   {
    "duration": 12,
    "start_time": "2023-06-03T19:14:08.546Z"
   },
   {
    "duration": 15,
    "start_time": "2023-06-03T19:14:08.560Z"
   },
   {
    "duration": 7,
    "start_time": "2023-06-03T19:14:08.581Z"
   },
   {
    "duration": 29,
    "start_time": "2023-06-03T19:14:08.590Z"
   },
   {
    "duration": 1526,
    "start_time": "2023-06-03T19:14:08.621Z"
   },
   {
    "duration": 1545,
    "start_time": "2023-06-03T19:14:10.149Z"
   },
   {
    "duration": 1517,
    "start_time": "2023-06-03T19:14:11.705Z"
   },
   {
    "duration": 4608,
    "start_time": "2023-06-05T14:03:58.016Z"
   },
   {
    "duration": 1565,
    "start_time": "2023-06-05T14:04:29.874Z"
   },
   {
    "duration": 1578,
    "start_time": "2023-06-05T14:04:31.441Z"
   },
   {
    "duration": 15,
    "start_time": "2023-06-05T14:04:33.020Z"
   },
   {
    "duration": 15,
    "start_time": "2023-06-05T14:04:33.037Z"
   },
   {
    "duration": 8,
    "start_time": "2023-06-05T14:04:33.054Z"
   },
   {
    "duration": 21,
    "start_time": "2023-06-05T14:04:33.063Z"
   },
   {
    "duration": 8,
    "start_time": "2023-06-05T14:04:33.086Z"
   },
   {
    "duration": 17,
    "start_time": "2023-06-05T14:04:33.096Z"
   },
   {
    "duration": 62,
    "start_time": "2023-06-05T14:04:33.114Z"
   },
   {
    "duration": 14,
    "start_time": "2023-06-05T14:04:33.179Z"
   },
   {
    "duration": 83,
    "start_time": "2023-06-05T14:04:33.195Z"
   },
   {
    "duration": 109,
    "start_time": "2023-06-05T14:04:33.281Z"
   },
   {
    "duration": 183,
    "start_time": "2023-06-05T14:04:33.392Z"
   },
   {
    "duration": 102,
    "start_time": "2023-06-05T14:04:33.582Z"
   },
   {
    "duration": 10,
    "start_time": "2023-06-05T14:04:33.687Z"
   },
   {
    "duration": 3,
    "start_time": "2023-06-05T14:04:33.699Z"
   },
   {
    "duration": 5,
    "start_time": "2023-06-05T14:04:33.704Z"
   },
   {
    "duration": 5,
    "start_time": "2023-06-05T14:04:33.711Z"
   },
   {
    "duration": 5,
    "start_time": "2023-06-05T14:04:33.719Z"
   },
   {
    "duration": 6,
    "start_time": "2023-06-05T14:04:33.725Z"
   },
   {
    "duration": 43,
    "start_time": "2023-06-05T14:04:33.732Z"
   },
   {
    "duration": 10,
    "start_time": "2023-06-05T14:04:33.777Z"
   },
   {
    "duration": 13,
    "start_time": "2023-06-05T14:04:33.788Z"
   },
   {
    "duration": 3,
    "start_time": "2023-06-05T14:04:33.803Z"
   },
   {
    "duration": 7,
    "start_time": "2023-06-05T14:04:33.808Z"
   },
   {
    "duration": 204,
    "start_time": "2023-06-05T14:04:33.817Z"
   },
   {
    "duration": 0,
    "start_time": "2023-06-05T14:04:34.024Z"
   },
   {
    "duration": 0,
    "start_time": "2023-06-05T14:04:34.026Z"
   },
   {
    "duration": 0,
    "start_time": "2023-06-05T14:04:34.028Z"
   },
   {
    "duration": 0,
    "start_time": "2023-06-05T14:04:34.029Z"
   },
   {
    "duration": 0,
    "start_time": "2023-06-05T14:04:34.031Z"
   },
   {
    "duration": 0,
    "start_time": "2023-06-05T14:04:34.032Z"
   },
   {
    "duration": 0,
    "start_time": "2023-06-05T14:04:34.034Z"
   },
   {
    "duration": 0,
    "start_time": "2023-06-05T14:04:34.035Z"
   },
   {
    "duration": 505,
    "start_time": "2023-06-05T14:05:33.924Z"
   },
   {
    "duration": 6,
    "start_time": "2023-06-05T14:05:44.420Z"
   },
   {
    "duration": 4,
    "start_time": "2023-06-05T14:05:49.153Z"
   },
   {
    "duration": 6,
    "start_time": "2023-06-05T14:06:09.505Z"
   },
   {
    "duration": 32,
    "start_time": "2023-06-05T14:06:14.619Z"
   },
   {
    "duration": 1484,
    "start_time": "2023-06-05T14:06:51.756Z"
   },
   {
    "duration": 1542,
    "start_time": "2023-06-05T14:07:22.006Z"
   },
   {
    "duration": 1681,
    "start_time": "2023-06-05T14:07:53.972Z"
   },
   {
    "duration": 1562,
    "start_time": "2023-06-05T14:09:06.834Z"
   },
   {
    "duration": 1606,
    "start_time": "2023-06-05T14:09:26.344Z"
   },
   {
    "duration": 1584,
    "start_time": "2023-06-05T14:09:31.737Z"
   },
   {
    "duration": 1101,
    "start_time": "2023-06-06T11:46:09.022Z"
   },
   {
    "duration": 1057,
    "start_time": "2023-06-06T11:46:10.124Z"
   },
   {
    "duration": 14,
    "start_time": "2023-06-06T11:46:11.614Z"
   },
   {
    "duration": 14,
    "start_time": "2023-06-06T11:46:13.429Z"
   },
   {
    "duration": 8,
    "start_time": "2023-06-06T11:46:15.242Z"
   },
   {
    "duration": 14,
    "start_time": "2023-06-06T11:46:16.860Z"
   },
   {
    "duration": 10,
    "start_time": "2023-06-06T11:46:18.371Z"
   },
   {
    "duration": 13,
    "start_time": "2023-06-06T11:46:18.865Z"
   },
   {
    "duration": 40,
    "start_time": "2023-06-06T11:46:22.884Z"
   },
   {
    "duration": 19,
    "start_time": "2023-06-06T11:46:25.086Z"
   },
   {
    "duration": 15,
    "start_time": "2023-06-06T11:46:26.512Z"
   },
   {
    "duration": 19,
    "start_time": "2023-06-06T11:46:36.500Z"
   },
   {
    "duration": 15,
    "start_time": "2023-06-06T11:46:38.664Z"
   },
   {
    "duration": 12,
    "start_time": "2023-06-06T11:46:38.951Z"
   },
   {
    "duration": 7,
    "start_time": "2023-06-06T11:46:40.677Z"
   },
   {
    "duration": 4,
    "start_time": "2023-06-06T11:46:42.404Z"
   },
   {
    "duration": 4,
    "start_time": "2023-06-06T11:46:45.012Z"
   }
  ],
  "kernelspec": {
   "display_name": "Python 3 (ipykernel)",
   "language": "python",
   "name": "python3"
  },
  "language_info": {
   "codemirror_mode": {
    "name": "ipython",
    "version": 3
   },
   "file_extension": ".py",
   "mimetype": "text/x-python",
   "name": "python",
   "nbconvert_exporter": "python",
   "pygments_lexer": "ipython3",
   "version": "3.9.12"
  },
  "toc": {
   "base_numbering": 1,
   "nav_menu": {},
   "number_sections": true,
   "sideBar": true,
   "skip_h1_title": true,
   "title_cell": "Table of Contents",
   "title_sidebar": "Contents",
   "toc_cell": false,
   "toc_position": {},
   "toc_section_display": true,
   "toc_window_display": false
  }
 },
 "nbformat": 4,
 "nbformat_minor": 2
}
