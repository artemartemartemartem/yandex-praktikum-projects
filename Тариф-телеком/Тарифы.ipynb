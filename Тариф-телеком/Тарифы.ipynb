{
 "cells": [
  {
   "cell_type": "markdown",
   "metadata": {},
   "source": [
    "# Рекомендация тарифов"
   ]
  },
  {
   "cell_type": "markdown",
   "metadata": {},
   "source": [
    "В вашем распоряжении данные о поведении клиентов, которые уже перешли на эти тарифы (из проекта курса «Статистический анализ данных»). Нужно построить модель для задачи классификации, которая выберет подходящий тариф. Предобработка данных не понадобится — вы её уже сделали.\n",
    "\n",
    "Постройте модель с максимально большим значением *accuracy*. Чтобы сдать проект успешно, нужно довести долю правильных ответов по крайней мере до 0.75. Проверьте *accuracy* на тестовой выборке самостоятельно."
   ]
  },
  {
   "cell_type": "markdown",
   "metadata": {},
   "source": [
    "## Откройте и изучите файл"
   ]
  },
  {
   "cell_type": "code",
   "execution_count": 3,
   "metadata": {},
   "outputs": [],
   "source": [
    "#Импортируем необходимые библиотеки\n",
    "import pandas as pd\n",
    "from sklearn.model_selection import train_test_split \n",
    "from sklearn.tree import DecisionTreeClassifier\n",
    "from sklearn.metrics import accuracy_score\n",
    "from sklearn.tree import DecisionTreeClassifier\n",
    "from sklearn.ensemble import RandomForestClassifier\n",
    "from sklearn.linear_model import LogisticRegression\n",
    "from sklearn.model_selection import GridSearchCV\n",
    "import matplotlib.pyplot as plt"
   ]
  },
  {
   "cell_type": "code",
   "execution_count": 4,
   "metadata": {},
   "outputs": [],
   "source": [
    "#Загрузим данные\n",
    "try:\n",
    "    data=pd.read_csv('C:/Users/ARTEM/Desktop/DataScience/users_behavior.csv')\n",
    "except:\n",
    "    data=pd.read_csv('/datasets/users_behavior.csv')"
   ]
  },
  {
   "cell_type": "code",
   "execution_count": 5,
   "metadata": {},
   "outputs": [
    {
     "data": {
      "text/html": [
       "<div>\n",
       "<style scoped>\n",
       "    .dataframe tbody tr th:only-of-type {\n",
       "        vertical-align: middle;\n",
       "    }\n",
       "\n",
       "    .dataframe tbody tr th {\n",
       "        vertical-align: top;\n",
       "    }\n",
       "\n",
       "    .dataframe thead th {\n",
       "        text-align: right;\n",
       "    }\n",
       "</style>\n",
       "<table border=\"1\" class=\"dataframe\">\n",
       "  <thead>\n",
       "    <tr style=\"text-align: right;\">\n",
       "      <th></th>\n",
       "      <th>calls</th>\n",
       "      <th>minutes</th>\n",
       "      <th>messages</th>\n",
       "      <th>mb_used</th>\n",
       "      <th>is_ultra</th>\n",
       "    </tr>\n",
       "  </thead>\n",
       "  <tbody>\n",
       "    <tr>\n",
       "      <th>0</th>\n",
       "      <td>40.0</td>\n",
       "      <td>311.90</td>\n",
       "      <td>83.0</td>\n",
       "      <td>19915.42</td>\n",
       "      <td>0</td>\n",
       "    </tr>\n",
       "    <tr>\n",
       "      <th>1</th>\n",
       "      <td>85.0</td>\n",
       "      <td>516.75</td>\n",
       "      <td>56.0</td>\n",
       "      <td>22696.96</td>\n",
       "      <td>0</td>\n",
       "    </tr>\n",
       "    <tr>\n",
       "      <th>2</th>\n",
       "      <td>77.0</td>\n",
       "      <td>467.66</td>\n",
       "      <td>86.0</td>\n",
       "      <td>21060.45</td>\n",
       "      <td>0</td>\n",
       "    </tr>\n",
       "    <tr>\n",
       "      <th>3</th>\n",
       "      <td>106.0</td>\n",
       "      <td>745.53</td>\n",
       "      <td>81.0</td>\n",
       "      <td>8437.39</td>\n",
       "      <td>1</td>\n",
       "    </tr>\n",
       "    <tr>\n",
       "      <th>4</th>\n",
       "      <td>66.0</td>\n",
       "      <td>418.74</td>\n",
       "      <td>1.0</td>\n",
       "      <td>14502.75</td>\n",
       "      <td>0</td>\n",
       "    </tr>\n",
       "    <tr>\n",
       "      <th>5</th>\n",
       "      <td>58.0</td>\n",
       "      <td>344.56</td>\n",
       "      <td>21.0</td>\n",
       "      <td>15823.37</td>\n",
       "      <td>0</td>\n",
       "    </tr>\n",
       "    <tr>\n",
       "      <th>6</th>\n",
       "      <td>57.0</td>\n",
       "      <td>431.64</td>\n",
       "      <td>20.0</td>\n",
       "      <td>3738.90</td>\n",
       "      <td>1</td>\n",
       "    </tr>\n",
       "    <tr>\n",
       "      <th>7</th>\n",
       "      <td>15.0</td>\n",
       "      <td>132.40</td>\n",
       "      <td>6.0</td>\n",
       "      <td>21911.60</td>\n",
       "      <td>0</td>\n",
       "    </tr>\n",
       "    <tr>\n",
       "      <th>8</th>\n",
       "      <td>7.0</td>\n",
       "      <td>43.39</td>\n",
       "      <td>3.0</td>\n",
       "      <td>2538.67</td>\n",
       "      <td>1</td>\n",
       "    </tr>\n",
       "    <tr>\n",
       "      <th>9</th>\n",
       "      <td>90.0</td>\n",
       "      <td>665.41</td>\n",
       "      <td>38.0</td>\n",
       "      <td>17358.61</td>\n",
       "      <td>0</td>\n",
       "    </tr>\n",
       "  </tbody>\n",
       "</table>\n",
       "</div>"
      ],
      "text/plain": [
       "   calls  minutes  messages   mb_used  is_ultra\n",
       "0   40.0   311.90      83.0  19915.42         0\n",
       "1   85.0   516.75      56.0  22696.96         0\n",
       "2   77.0   467.66      86.0  21060.45         0\n",
       "3  106.0   745.53      81.0   8437.39         1\n",
       "4   66.0   418.74       1.0  14502.75         0\n",
       "5   58.0   344.56      21.0  15823.37         0\n",
       "6   57.0   431.64      20.0   3738.90         1\n",
       "7   15.0   132.40       6.0  21911.60         0\n",
       "8    7.0    43.39       3.0   2538.67         1\n",
       "9   90.0   665.41      38.0  17358.61         0"
      ]
     },
     "execution_count": 5,
     "metadata": {},
     "output_type": "execute_result"
    }
   ],
   "source": [
    "#Взглянем на первые 10 строк датасета\n",
    "data.head(10)"
   ]
  },
  {
   "cell_type": "code",
   "execution_count": 6,
   "metadata": {},
   "outputs": [
    {
     "name": "stdout",
     "output_type": "stream",
     "text": [
      "<class 'pandas.core.frame.DataFrame'>\n",
      "RangeIndex: 3214 entries, 0 to 3213\n",
      "Data columns (total 5 columns):\n",
      " #   Column    Non-Null Count  Dtype  \n",
      "---  ------    --------------  -----  \n",
      " 0   calls     3214 non-null   float64\n",
      " 1   minutes   3214 non-null   float64\n",
      " 2   messages  3214 non-null   float64\n",
      " 3   mb_used   3214 non-null   float64\n",
      " 4   is_ultra  3214 non-null   int64  \n",
      "dtypes: float64(4), int64(1)\n",
      "memory usage: 125.7 KB\n"
     ]
    }
   ],
   "source": [
    "#Изучим типы данных\n",
    "data.info()"
   ]
  },
  {
   "cell_type": "code",
   "execution_count": 7,
   "metadata": {},
   "outputs": [],
   "source": [
    "#Изменим типы в столбцах 'calls' и 'messages'с float64 на int64\n",
    "data['calls']=data['calls'].astype('int64')\n",
    "data['messages']=data['messages'].astype('int64')"
   ]
  },
  {
   "cell_type": "code",
   "execution_count": 8,
   "metadata": {},
   "outputs": [
    {
     "name": "stdout",
     "output_type": "stream",
     "text": [
      "<class 'pandas.core.frame.DataFrame'>\n",
      "RangeIndex: 3214 entries, 0 to 3213\n",
      "Data columns (total 5 columns):\n",
      " #   Column    Non-Null Count  Dtype  \n",
      "---  ------    --------------  -----  \n",
      " 0   calls     3214 non-null   int64  \n",
      " 1   minutes   3214 non-null   float64\n",
      " 2   messages  3214 non-null   int64  \n",
      " 3   mb_used   3214 non-null   float64\n",
      " 4   is_ultra  3214 non-null   int64  \n",
      "dtypes: float64(2), int64(3)\n",
      "memory usage: 125.7 KB\n"
     ]
    }
   ],
   "source": [
    "#Проверим\n",
    "data.info()"
   ]
  },
  {
   "cell_type": "code",
   "execution_count": 9,
   "metadata": {},
   "outputs": [
    {
     "data": {
      "text/html": [
       "<div>\n",
       "<style scoped>\n",
       "    .dataframe tbody tr th:only-of-type {\n",
       "        vertical-align: middle;\n",
       "    }\n",
       "\n",
       "    .dataframe tbody tr th {\n",
       "        vertical-align: top;\n",
       "    }\n",
       "\n",
       "    .dataframe thead th {\n",
       "        text-align: right;\n",
       "    }\n",
       "</style>\n",
       "<table border=\"1\" class=\"dataframe\">\n",
       "  <thead>\n",
       "    <tr style=\"text-align: right;\">\n",
       "      <th></th>\n",
       "      <th>count</th>\n",
       "      <th>mean</th>\n",
       "      <th>std</th>\n",
       "      <th>min</th>\n",
       "      <th>25%</th>\n",
       "      <th>50%</th>\n",
       "      <th>75%</th>\n",
       "      <th>max</th>\n",
       "    </tr>\n",
       "  </thead>\n",
       "  <tbody>\n",
       "    <tr>\n",
       "      <th>calls</th>\n",
       "      <td>3214.0</td>\n",
       "      <td>63.038892</td>\n",
       "      <td>33.236368</td>\n",
       "      <td>0.0</td>\n",
       "      <td>40.0000</td>\n",
       "      <td>62.000</td>\n",
       "      <td>82.0000</td>\n",
       "      <td>244.00</td>\n",
       "    </tr>\n",
       "    <tr>\n",
       "      <th>minutes</th>\n",
       "      <td>3214.0</td>\n",
       "      <td>438.208787</td>\n",
       "      <td>234.569872</td>\n",
       "      <td>0.0</td>\n",
       "      <td>274.5750</td>\n",
       "      <td>430.600</td>\n",
       "      <td>571.9275</td>\n",
       "      <td>1632.06</td>\n",
       "    </tr>\n",
       "    <tr>\n",
       "      <th>messages</th>\n",
       "      <td>3214.0</td>\n",
       "      <td>38.281269</td>\n",
       "      <td>36.148326</td>\n",
       "      <td>0.0</td>\n",
       "      <td>9.0000</td>\n",
       "      <td>30.000</td>\n",
       "      <td>57.0000</td>\n",
       "      <td>224.00</td>\n",
       "    </tr>\n",
       "    <tr>\n",
       "      <th>mb_used</th>\n",
       "      <td>3214.0</td>\n",
       "      <td>17207.673836</td>\n",
       "      <td>7570.968246</td>\n",
       "      <td>0.0</td>\n",
       "      <td>12491.9025</td>\n",
       "      <td>16943.235</td>\n",
       "      <td>21424.7000</td>\n",
       "      <td>49745.73</td>\n",
       "    </tr>\n",
       "    <tr>\n",
       "      <th>is_ultra</th>\n",
       "      <td>3214.0</td>\n",
       "      <td>0.306472</td>\n",
       "      <td>0.461100</td>\n",
       "      <td>0.0</td>\n",
       "      <td>0.0000</td>\n",
       "      <td>0.000</td>\n",
       "      <td>1.0000</td>\n",
       "      <td>1.00</td>\n",
       "    </tr>\n",
       "  </tbody>\n",
       "</table>\n",
       "</div>"
      ],
      "text/plain": [
       "           count          mean          std  min         25%        50%  \\\n",
       "calls     3214.0     63.038892    33.236368  0.0     40.0000     62.000   \n",
       "minutes   3214.0    438.208787   234.569872  0.0    274.5750    430.600   \n",
       "messages  3214.0     38.281269    36.148326  0.0      9.0000     30.000   \n",
       "mb_used   3214.0  17207.673836  7570.968246  0.0  12491.9025  16943.235   \n",
       "is_ultra  3214.0      0.306472     0.461100  0.0      0.0000      0.000   \n",
       "\n",
       "                 75%       max  \n",
       "calls        82.0000    244.00  \n",
       "minutes     571.9275   1632.06  \n",
       "messages     57.0000    224.00  \n",
       "mb_used   21424.7000  49745.73  \n",
       "is_ultra      1.0000      1.00  "
      ]
     },
     "execution_count": 9,
     "metadata": {},
     "output_type": "execute_result"
    }
   ],
   "source": [
    "#Посмотрим, на данные в таком разрезе\n",
    "data.describe().T"
   ]
  },
  {
   "cell_type": "markdown",
   "metadata": {},
   "source": [
    "##### Вывод:\n",
    "- датасет загружен\n",
    "- изменены типы данных в столбцах messages/calls c float64 на int64\n",
    "- пропуски/аномалии не обнаружены"
   ]
  },
  {
   "cell_type": "markdown",
   "metadata": {},
   "source": [
    "## Разбейте данные на выборки"
   ]
  },
  {
   "cell_type": "code",
   "execution_count": 10,
   "metadata": {},
   "outputs": [
    {
     "name": "stdout",
     "output_type": "stream",
     "text": [
      "Размер обучающей выборки - 1285\n",
      "Размер тестовой выборки - 964\n",
      "Размер валидационной выборки - 965\n"
     ]
    }
   ],
   "source": [
    "#Спрятанной тестовой выборки нет. Значит, данные нужно разбить на три части: обучающую,  валидационную и тестовую. Размеры тестового и валидационного наборов обычно равны. Исходные данные разбивают в соотношении 3:1:1. \n",
    "data_train, data_valid_test = train_test_split(data, test_size=0.6, random_state=12345)\n",
    "data_test, data_valid = train_test_split(data_valid_test, test_size=0.5, random_state=12345)\n",
    "print('Размер обучающей выборки -', len(data_train))\n",
    "print('Размер тестовой выборки -', len(data_test))\n",
    "print('Размер валидационной выборки -', len(data_valid))"
   ]
  },
  {
   "cell_type": "code",
   "execution_count": 11,
   "metadata": {},
   "outputs": [],
   "source": [
    "#Определим целевой признак для обущающей выборки и признаки\n",
    "features_train = data_train.drop('is_ultra', axis=1)\n",
    "target_train = data_train['is_ultra']\n",
    "#Определим целевой признак для тестовой выборки и признаки\n",
    "features_test = data_test.drop('is_ultra', axis=1)\n",
    "target_test = data_test['is_ultra']\n",
    "#Определим целевой признак для валидационной выборки и признаки\n",
    "features_valid = data_valid.drop('is_ultra', axis=1)\n",
    "target_valid = data_valid['is_ultra']"
   ]
  },
  {
   "cell_type": "markdown",
   "metadata": {},
   "source": [
    "## Исследуйте модели"
   ]
  },
  {
   "cell_type": "markdown",
   "metadata": {},
   "source": [
    "### Рассмотрим 3 основные модели, которые были пройдены в курсе:"
   ]
  },
  {
   "cell_type": "code",
   "execution_count": 12,
   "metadata": {},
   "outputs": [
    {
     "name": "stdout",
     "output_type": "stream",
     "text": [
      "Accuracy наилучшей модели на валидационной выборке: 0.7865284974093264 c гиперпараметром max_depth 6 и гиперпараметром criterion entropy\n"
     ]
    }
   ],
   "source": [
    "#Самый важный гиперпараметр решающего дерева — max_depth, переберем возможные значение от 1 до 10, чтобы получить наиболее качественную модель\n",
    "best_model_dc = None\n",
    "best_result_dc = 0\n",
    "max_depth_list=[]\n",
    "accuracy_score_list=[]\n",
    "criterion=['gini','entropy']\n",
    "for el in criterion:\n",
    "    for i in range(1,11):\n",
    "        model_dc=DecisionTreeClassifier(random_state=12345,max_depth=i, criterion=el)\n",
    "        max_depth_list.append(i)\n",
    "        model_dc.fit(features_train, target_train)\n",
    "        result_dc=model_dc.score(features_valid, target_valid)\n",
    "        accuracy_score_list.append(result_dc)\n",
    "        if result_dc > best_result_dc:\n",
    "            k=i\n",
    "            best_el=el\n",
    "            best_model_dc = model_dc\n",
    "            best_result_dc = result_dc \n",
    "   \n",
    "print(\"Accuracy наилучшей модели на валидационной выборке:\", best_result_dc, 'c гиперпараметром max_depth',k, 'и гиперпараметром criterion',best_el)"
   ]
  },
  {
   "cell_type": "code",
   "execution_count": 13,
   "metadata": {},
   "outputs": [
    {
     "data": {
      "text/plain": [
       "[0.7440414507772021,\n",
       " 0.7585492227979275,\n",
       " 0.7772020725388601,\n",
       " 0.7792746113989637,\n",
       " 0.7772020725388601,\n",
       " 0.7813471502590673,\n",
       " 0.7751295336787565,\n",
       " 0.7772020725388601,\n",
       " 0.7678756476683938,\n",
       " 0.7492227979274612]"
      ]
     },
     "execution_count": 13,
     "metadata": {},
     "output_type": "execute_result"
    }
   ],
   "source": [
    "max_depth_list[0:10]\n",
    "accuracy_score_list[0:10]"
   ]
  },
  {
   "cell_type": "code",
   "execution_count": 14,
   "metadata": {},
   "outputs": [
    {
     "data": {
      "text/plain": [
       "<matplotlib.legend.Legend at 0x7f874e151b50>"
      ]
     },
     "execution_count": 14,
     "metadata": {},
     "output_type": "execute_result"
    },
    {
     "data": {
      "image/png": "[encoded data removed]",
      "text/plain": [
       "<Figure size 1080x720 with 1 Axes>"
      ]
     },
     "metadata": {
      "needs_background": "light"
     },
     "output_type": "display_data"
    }
   ],
   "source": [
    "plt.figure(figsize=(15,10))\n",
    "plt.title('Зависимость accuracy от max_depth')\n",
    "plt.xlabel('max_depth')\n",
    "plt.ylabel('accuracy')\n",
    "plt.plot(max_depth_list[0:10],accuracy_score_list[0:10])\n",
    "plt.plot(max_depth_list[11:20],accuracy_score_list[11:20])\n",
    "plt.legend(criterion)\n",
    "\n"
   ]
  },
  {
   "cell_type": "markdown",
   "metadata": {},
   "source": [
    "#### 2. Cлучайный лес"
   ]
  },
  {
   "cell_type": "markdown",
   "metadata": {},
   "source": [
    "Попробую применить GridSearchCV, как в рекомендации, а проверять буду следующие гиперпараметры:\n",
    "<br>\n",
    "n_estimators – Число деревьев в лесу. Оно будет изменяться от 1 до 13 с шагом 1\n",
    "<br>\n",
    "max_depth – Глубина дерева. Она будет изменяться от 1 до 6 с шагом в 1\n",
    "<br>\n",
    "min_samples_leaf – Минимальное число образцов для сплита. Оно будет изменяться от 1 до 8."
   ]
  },
  {
   "cell_type": "code",
   "execution_count": 15,
   "metadata": {},
   "outputs": [],
   "source": [
    "# Присвоем модель без гиперпараметров,а для самих гиперпараметров подготовим словарь paramers\n",
    "model_rf= RandomForestClassifier()\n",
    "parametrs = {'n_estimators': range (1, 14),\n",
    "              'max_depth': range (1,6),\n",
    "              'min_samples_leaf': range (1,8)}"
   ]
  },
  {
   "cell_type": "code",
   "execution_count": 16,
   "metadata": {},
   "outputs": [
    {
     "data": {
      "text/plain": [
       "GridSearchCV(cv=4, estimator=RandomForestClassifier(),\n",
       "             param_grid={'max_depth': range(1, 6),\n",
       "                         'min_samples_leaf': range(1, 8),\n",
       "                         'n_estimators': range(1, 14)})"
      ]
     },
     "execution_count": 16,
     "metadata": {},
     "output_type": "execute_result"
    }
   ],
   "source": [
    "# используем GridSeachCV для поиска оптимальных параметров\n",
    "grid = GridSearchCV(model_rf, parametrs, cv=4)\n",
    "grid.fit(features_train, target_train)"
   ]
  },
  {
   "cell_type": "code",
   "execution_count": 17,
   "metadata": {},
   "outputs": [
    {
     "data": {
      "text/plain": [
       "{'max_depth': 5, 'min_samples_leaf': 6, 'n_estimators': 4}"
      ]
     },
     "execution_count": 17,
     "metadata": {},
     "output_type": "execute_result"
    }
   ],
   "source": [
    "# Выведем наилучшие гиперпараметры\n",
    "grid.best_params_"
   ]
  },
  {
   "cell_type": "code",
   "execution_count": 18,
   "metadata": {},
   "outputs": [],
   "source": [
    "# Используя лучшие гиперпараметры проверим результат\n",
    "model_rf= RandomForestClassifier(max_depth=5,random_state=12345,min_samples_leaf=3,n_estimators=10)\n",
    "model_rf.fit(features_train, target_train)\n",
    "result_rf = model_rf.score(features_valid, target_valid) "
   ]
  },
  {
   "cell_type": "code",
   "execution_count": 19,
   "metadata": {},
   "outputs": [
    {
     "name": "stdout",
     "output_type": "stream",
     "text": [
      "Accuracy наилучшей модели на валидационной выборке 0.7803108808290156\n"
     ]
    }
   ],
   "source": [
    "print('Accuracy наилучшей модели на валидационной выборке',result_rf)"
   ]
  },
  {
   "cell_type": "code",
   "execution_count": 20,
   "metadata": {},
   "outputs": [
    {
     "data": {
      "image/png": "[encoded data removed]",
      "text/plain": [
       "<Figure size 720x432 with 1 Axes>"
      ]
     },
     "metadata": {
      "needs_background": "light"
     },
     "output_type": "display_data"
    }
   ],
   "source": [
    "# Код ревьюера\n",
    "\n",
    "import matplotlib.pyplot as plt\n",
    "\n",
    "param_grid = {'max_depth': range (1,6)}\n",
    "\n",
    "# Обучаем GridSearchCV и сохраняем результаты\n",
    "grid = GridSearchCV(DecisionTreeClassifier(random_state=12345), param_grid=param_grid, cv=5)\n",
    "grid.fit(features_train, target_train)\n",
    "\n",
    "results = grid.cv_results_\n",
    "\n",
    "# Получаем средние результаты на тестовых наборах для каждого параметра max_depth\n",
    "test_scores = results['mean_test_score']\n",
    "\n",
    "# Получаем значения параметра max_depth\n",
    "max_depth_values = [param['max_depth'] for param in results['params']]\n",
    "\n",
    "# Построим график\n",
    "plt.figure(figsize=(10, 6))\n",
    "plt.plot(max_depth_values, test_scores, marker='o')\n",
    "plt.title('Model performance and max_depth')\n",
    "plt.xlabel('max_depth')\n",
    "plt.ylabel('Mean test score')\n",
    "plt.show()"
   ]
  },
  {
   "cell_type": "code",
   "execution_count": 29,
   "metadata": {},
   "outputs": [
    {
     "data": {
      "text/plain": [
       "array([0.7385214 , 0.76575875, 0.7844358 , 0.78210117, 0.7922179 ])"
      ]
     },
     "execution_count": 29,
     "metadata": {},
     "output_type": "execute_result"
    }
   ],
   "source": [
    "test_scores = results['mean_test_score']\n",
    "test_scores"
   ]
  },
  {
   "cell_type": "markdown",
   "metadata": {},
   "source": [
    "#### 3. Логическая регрессия"
   ]
  },
  {
   "cell_type": "code",
   "execution_count": 21,
   "metadata": {},
   "outputs": [
    {
     "name": "stdout",
     "output_type": "stream",
     "text": [
      "Accuracy линейной регрессии: 0.7398963730569948\n"
     ]
    }
   ],
   "source": [
    "#Построим модель логической регрессии\n",
    "model_lr = LogisticRegression(random_state=12345, solver='liblinear', max_iter=1000) \n",
    "model_lr.fit(features_train,target_train) \n",
    "model_lr.score(features_valid, target_valid) \n",
    "print(\"Accuracy линейной регрессии:\", model_lr.score(features_valid, target_valid))"
   ]
  },
  {
   "cell_type": "code",
   "execution_count": 22,
   "metadata": {},
   "outputs": [],
   "source": [
    "#Построим модель логической регрессии\n",
    "solver=['lbfgs', 'liblinear']\n",
    "best_model_lr = None\n",
    "best_result_lr = 0\n",
    "for solv in solver:\n",
    "        model_lr=LogisticRegression(random_state=12345,max_iter=1000, solver=solv)\n",
    "        model_lr.fit(features_train, target_train)\n",
    "        result_lr=model_lr.score(features_valid, target_valid)\n",
    "        if result_lr > best_result_lr:\n",
    "            s=solv\n",
    "            best_model_lr = model_lr\n",
    "            best_result_lr = result_lr"
   ]
  },
  {
   "cell_type": "code",
   "execution_count": 23,
   "metadata": {},
   "outputs": [
    {
     "name": "stdout",
     "output_type": "stream",
     "text": [
      "Accuracy наилучшей модели на валидационной выборке 0.7419689119170985 с гиперпараметром solver lbfgs\n"
     ]
    }
   ],
   "source": [
    "print('Accuracy наилучшей модели на валидационной выборке',best_result_lr, 'с гиперпараметром solver',s)"
   ]
  },
  {
   "cell_type": "markdown",
   "metadata": {},
   "source": [
    "## Вывод:\n",
    "Подведем итоги 3 обученных моделей:\n",
    "\n",
    "Дерево решений: Максимальная глубина дерева 6, доля правильный ответов на валидационной выборке 0.7813471502590673\n",
    "<br>\n",
    "<br>\n",
    "Случайный лес:Максимальное количество деревьев 38,доля правильный ответов  на валидационной выборке 0.7792746113989637\n",
    "<br>\n",
    "<br>\n",
    "Логистическая регрессия:\n",
    "Доля правильный ответов на валидационной выборке 0.7419689119170985\n",
    "\n",
    "Наиболее точная модель - дерево решений!"
   ]
  },
  {
   "cell_type": "markdown",
   "metadata": {},
   "source": [
    "## Проверьте модель на тестовой выборке"
   ]
  },
  {
   "cell_type": "code",
   "execution_count": 24,
   "metadata": {},
   "outputs": [
    {
     "name": "stdout",
     "output_type": "stream",
     "text": [
      "Accuracy выбранной модели на тестовой выборке: 0.7873443983402489\n"
     ]
    }
   ],
   "source": [
    "#Проверим модель на тестовой выборке\n",
    "result_test=model_dc.score(features_test, target_test)\n",
    "print('Accuracy выбранной модели на тестовой выборке:',result_test)"
   ]
  },
  {
   "cell_type": "markdown",
   "metadata": {},
   "source": [
    "##### Вывод:\n",
    "Доля чуть выше, чем на валидационной выборке, но различие совсем невелико"
   ]
  },
  {
   "cell_type": "markdown",
   "metadata": {},
   "source": [
    "## (бонус) Проверим модели на адекватность"
   ]
  },
  {
   "cell_type": "code",
   "execution_count": 25,
   "metadata": {},
   "outputs": [
    {
     "name": "stdout",
     "output_type": "stream",
     "text": [
      "valid - 0.7865284974093264\n",
      "test - 0.7873443983402489\n",
      "Модель весьма адекватна, т.к. accuracy практически не различается\n"
     ]
    }
   ],
   "source": [
    "print('valid -',best_result_dc)\n",
    "print('test -',result_test)\n",
    "print('Модель весьма адекватна, т.к. accuracy практически не различается')"
   ]
  },
  {
   "cell_type": "code",
   "execution_count": 26,
   "metadata": {},
   "outputs": [
    {
     "data": {
      "text/plain": [
       "0.693528313627878"
      ]
     },
     "execution_count": 26,
     "metadata": {},
     "output_type": "execute_result"
    }
   ],
   "source": [
    "1-data['is_ultra'].sum()/data['is_ultra'].count()"
   ]
  },
  {
   "cell_type": "markdown",
   "metadata": {},
   "source": [
    "### Вывод:\n",
    "По результатам работы:\n",
    "    \n",
    "- Изучен и проанализирован датасет\n",
    "- Датасет разбит на три выборки: обучающая, валидационная и тестовая в соотношении 1:1:3\n",
    "- Исследованы три модели классификации: Дерево решений, Случайный лес и Логистическая регрессия.\n",
    "- Найдены оптимальные параметры для каждой модели и выбрана оптимальная!\n",
    "- Модель проверена на тестовой выборке, оценена адекватность."
   ]
  }
 ],
 "metadata": {
  "ExecuteTimeLog": [
   {
    "duration": 682,
    "start_time": "2023-05-11T12:02:22.015Z"
   },
   {
    "duration": 2204,
    "start_time": "2023-05-11T12:02:28.411Z"
   },
   {
    "duration": 141,
    "start_time": "2023-05-11T12:02:30.617Z"
   },
   {
    "duration": 14,
    "start_time": "2023-05-11T12:02:30.760Z"
   },
   {
    "duration": 29,
    "start_time": "2023-05-11T12:02:30.776Z"
   },
   {
    "duration": 20,
    "start_time": "2023-05-11T12:02:30.807Z"
   },
   {
    "duration": 36,
    "start_time": "2023-05-11T12:02:30.829Z"
   },
   {
    "duration": 51,
    "start_time": "2023-05-11T12:02:30.866Z"
   },
   {
    "duration": 25,
    "start_time": "2023-05-11T12:02:30.919Z"
   },
   {
    "duration": 41,
    "start_time": "2023-05-11T12:02:30.946Z"
   },
   {
    "duration": 156,
    "start_time": "2023-05-11T12:02:30.990Z"
   },
   {
    "duration": 4,
    "start_time": "2023-05-11T12:02:31.149Z"
   },
   {
    "duration": 225,
    "start_time": "2023-05-11T12:02:31.155Z"
   },
   {
    "duration": 3,
    "start_time": "2023-05-11T12:02:31.381Z"
   },
   {
    "duration": 29001,
    "start_time": "2023-05-11T12:02:31.385Z"
   },
   {
    "duration": 6,
    "start_time": "2023-05-11T12:03:00.387Z"
   },
   {
    "duration": 47,
    "start_time": "2023-05-11T12:03:00.395Z"
   },
   {
    "duration": 20,
    "start_time": "2023-05-11T12:03:00.444Z"
   },
   {
    "duration": 71,
    "start_time": "2023-05-11T12:03:00.465Z"
   },
   {
    "duration": 12,
    "start_time": "2023-05-11T12:04:06.672Z"
   },
   {
    "duration": 13,
    "start_time": "2023-05-11T12:04:13.933Z"
   },
   {
    "duration": 270,
    "start_time": "2023-05-11T12:04:25.822Z"
   },
   {
    "duration": 321,
    "start_time": "2023-05-11T12:04:36.693Z"
   },
   {
    "duration": 163,
    "start_time": "2023-05-12T07:02:20.350Z"
   },
   {
    "duration": 662,
    "start_time": "2023-05-12T07:03:00.440Z"
   },
   {
    "duration": 967,
    "start_time": "2023-05-12T07:03:07.659Z"
   },
   {
    "duration": 158,
    "start_time": "2023-05-12T07:03:08.627Z"
   },
   {
    "duration": 14,
    "start_time": "2023-05-12T07:03:08.787Z"
   },
   {
    "duration": 10,
    "start_time": "2023-05-12T07:03:08.803Z"
   },
   {
    "duration": 12,
    "start_time": "2023-05-12T07:03:08.814Z"
   },
   {
    "duration": 17,
    "start_time": "2023-05-12T07:03:08.828Z"
   },
   {
    "duration": 22,
    "start_time": "2023-05-12T07:03:08.846Z"
   },
   {
    "duration": 7,
    "start_time": "2023-05-12T07:03:10.557Z"
   },
   {
    "duration": 5,
    "start_time": "2023-05-12T07:03:10.735Z"
   },
   {
    "duration": 117,
    "start_time": "2023-05-12T07:03:11.406Z"
   },
   {
    "duration": 4,
    "start_time": "2023-05-12T07:03:11.584Z"
   },
   {
    "duration": 181,
    "start_time": "2023-05-12T07:03:11.764Z"
   },
   {
    "duration": 3,
    "start_time": "2023-05-12T07:03:12.854Z"
   },
   {
    "duration": 26891,
    "start_time": "2023-05-12T07:03:13.040Z"
   },
   {
    "duration": 4,
    "start_time": "2023-05-12T07:03:39.932Z"
   },
   {
    "duration": 260,
    "start_time": "2023-05-12T07:03:39.937Z"
   },
   {
    "duration": 21,
    "start_time": "2023-05-12T07:03:40.199Z"
   },
   {
    "duration": 342,
    "start_time": "2023-05-12T07:03:40.221Z"
   },
   {
    "duration": 13,
    "start_time": "2023-05-12T07:03:40.565Z"
   },
   {
    "duration": 46,
    "start_time": "2023-05-12T07:03:40.580Z"
   },
   {
    "duration": 3,
    "start_time": "2023-05-12T07:03:40.628Z"
   },
   {
    "duration": 10,
    "start_time": "2023-05-12T07:03:40.633Z"
   },
   {
    "duration": 15,
    "start_time": "2023-05-12T07:03:40.646Z"
   },
   {
    "duration": 8,
    "start_time": "2023-05-12T07:03:40.662Z"
   },
   {
    "duration": 2,
    "start_time": "2023-05-12T07:04:23.583Z"
   },
   {
    "duration": 2,
    "start_time": "2023-05-12T07:04:26.194Z"
   },
   {
    "duration": 4,
    "start_time": "2023-05-12T07:04:33.306Z"
   }
  ],
  "kernelspec": {
   "display_name": "Python 3 (ipykernel)",
   "language": "python",
   "name": "python3"
  },
  "language_info": {
   "codemirror_mode": {
    "name": "ipython",
    "version": 3
   },
   "file_extension": ".py",
   "mimetype": "text/x-python",
   "name": "python",
   "nbconvert_exporter": "python",
   "pygments_lexer": "ipython3",
   "version": "3.9.12"
  },
  "toc": {
   "base_numbering": 1,
   "nav_menu": {},
   "number_sections": true,
   "sideBar": true,
   "skip_h1_title": true,
   "title_cell": "Table of Contents",
   "title_sidebar": "Contents",
   "toc_cell": false,
   "toc_position": {},
   "toc_section_display": true,
   "toc_window_display": false
  }
 },
 "nbformat": 4,
 "nbformat_minor": 2
}
